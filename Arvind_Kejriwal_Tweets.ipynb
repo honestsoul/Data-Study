{
 "cells": [
  {
   "cell_type": "code",
   "execution_count": 3,
   "metadata": {
    "collapsed": false
   },
   "outputs": [
    {
     "name": "stdout",
     "output_type": "stream",
     "text": [
      "getting tweets before 721559183414456319\n",
      "...400 tweets downloaded so far\n",
      "getting tweets before 718200133679063040\n",
      "...599 tweets downloaded so far\n",
      "getting tweets before 714700779223924735\n",
      "...799 tweets downloaded so far\n",
      "getting tweets before 709307022697566207\n",
      "...998 tweets downloaded so far\n",
      "getting tweets before 699936425857265663\n",
      "...1198 tweets downloaded so far\n",
      "getting tweets before 693780651632250881\n",
      "...1398 tweets downloaded so far\n",
      "getting tweets before 688220945668947968\n",
      "...1598 tweets downloaded so far\n",
      "getting tweets before 682617544704786431\n",
      "...1798 tweets downloaded so far\n",
      "getting tweets before 677400433673940991\n",
      "...1998 tweets downloaded so far\n",
      "getting tweets before 671275604281442303\n",
      "...2198 tweets downloaded so far\n",
      "getting tweets before 660459496225898495\n",
      "...2398 tweets downloaded so far\n",
      "getting tweets before 649839585661292543\n",
      "...2598 tweets downloaded so far\n",
      "getting tweets before 638020334969425919\n",
      "...2798 tweets downloaded so far\n",
      "getting tweets before 624951292058669055\n",
      "...2998 tweets downloaded so far\n",
      "getting tweets before 607229878581075967\n",
      "...3198 tweets downloaded so far\n",
      "getting tweets before 563979737110822912\n",
      "...3213 tweets downloaded so far\n",
      "getting tweets before 563532122829234175\n",
      "...3213 tweets downloaded so far\n"
     ]
    }
   ],
   "source": [
    "#!/usr/bin/env python\n",
    "# encoding: utf-8\n",
    "\n",
    "import tweepy #https://github.com/tweepy/tweepy\n",
    "import csv\n",
    "\n",
    "#Twitter API credentials\n",
    "consumer_key = ''\n",
    "consumer_secret =''\n",
    "access_key = ''\n",
    "access_secret = ''\n",
    "\n",
    "\n",
    "def get_all_tweets(screen_name):\n",
    "\t#Twitter only allows access to a users most recent 3240 tweets with this method\n",
    "\t\n",
    "\t#authorize twitter, initialize tweepy\n",
    "\tauth = tweepy.OAuthHandler(consumer_key, consumer_secret)\n",
    "\tauth.set_access_token(access_key, access_secret)\n",
    "\tapi = tweepy.API(auth)\n",
    "\t\n",
    "\t#initialize a list to hold all the tweepy Tweets\n",
    "\talltweets = []\t\n",
    "\t\n",
    "\t#make initial request for most recent tweets (200 is the maximum allowed count)\n",
    "\tnew_tweets = api.user_timeline(screen_name = screen_name,count=200)\n",
    "\t\n",
    "\t#save most recent tweets\n",
    "\talltweets.extend(new_tweets)\n",
    "\t\n",
    "\t#save the id of the oldest tweet less one\n",
    "\toldest = alltweets[-1].id - 1\n",
    "\t\n",
    "\t#keep grabbing tweets until there are no tweets left to grab\n",
    "\twhile len(new_tweets) > 0:\n",
    "\t\tprint \"getting tweets before %s\" % (oldest)\n",
    "\t\t\n",
    "\t\t#all subsiquent requests use the max_id param to prevent duplicates\n",
    "\t\tnew_tweets = api.user_timeline(screen_name = screen_name,count=200,max_id=oldest)\n",
    "\t\t\n",
    "\t\t#save most recent tweets\n",
    "\t\talltweets.extend(new_tweets)\n",
    "\t\t\n",
    "\t\t#update the id of the oldest tweet less one\n",
    "\t\toldest = alltweets[-1].id - 1\n",
    "\t\t\n",
    "\t\tprint \"...%s tweets downloaded so far\" % (len(alltweets))\n",
    "\t\n",
    "\t#transform the tweepy tweets into a 2D array that will populate the csv\t\n",
    "\touttweets = [[tweet.id_str, tweet.created_at, tweet.text.encode(\"utf-8\")] for tweet in alltweets]\n",
    "\t\n",
    "\t#write the csv\t\n",
    "\twith open('%s_tweets.csv' % screen_name, 'wb') as f:\n",
    "\t\twriter = csv.writer(f)\n",
    "\t\twriter.writerow([\"id\",\"created_at\",\"text\"])\n",
    "\t\twriter.writerows(outtweets)\n",
    "\t\n",
    "\tpass\n",
    "\n",
    "\n",
    "if __name__ == '__main__':\n",
    "\t#pass in the username of the account you want to download\n",
    "\tget_all_tweets(\"ArvindKejriwal\")"
   ]
  },
  {
   "cell_type": "code",
   "execution_count": 4,
   "metadata": {
    "collapsed": true
   },
   "outputs": [],
   "source": [
    "import pandas as pd\n",
    "import numpy as np\n",
    "import matplotlib\n",
    "# display graphs inline\n",
    "%matplotlib inline \n",
    "\n",
    "# Make graphs prettier\n",
    "pd.set_option('display.max_columns', 15)\n",
    "pd.set_option('display.width', 400)\n",
    "#pd.set_option('display.mpl_style', 'default')\n",
    "matplotlib.style.use('ggplot')\n",
    "# Make the fonts bigger\n",
    "matplotlib.rc('figure', figsize=(14, 7))\n",
    "matplotlib.rc('font', family='normal', weight='bold', size=22)"
   ]
  },
  {
   "cell_type": "code",
   "execution_count": 108,
   "metadata": {
    "collapsed": false
   },
   "outputs": [],
   "source": [
    "ak_tweets = pd.read_csv(\"../data/ArvindKejriwal_tweets.csv\", encoding='iso-8859-1', sep=',', parse_dates=True, dayfirst=True,error_bad_lines=False)"
   ]
  },
  {
   "cell_type": "code",
   "execution_count": 92,
   "metadata": {
    "collapsed": false
   },
   "outputs": [
    {
     "data": {
      "text/html": [
       "<div>\n",
       "<table border=\"1\" class=\"dataframe\">\n",
       "  <thead>\n",
       "    <tr style=\"text-align: right;\">\n",
       "      <th></th>\n",
       "      <th>id</th>\n",
       "      <th>created_at</th>\n",
       "      <th>text</th>\n",
       "    </tr>\n",
       "  </thead>\n",
       "  <tbody>\n",
       "    <tr>\n",
       "      <th>0</th>\n",
       "      <td>725736167363203072</td>\n",
       "      <td>2016-04-28 17:19:20</td>\n",
       "      <td>RT @Airavta: .@bhagwantmann ji new poem on Ach...</td>\n",
       "    </tr>\n",
       "    <tr>\n",
       "      <th>1</th>\n",
       "      <td>725688872399699968</td>\n",
       "      <td>2016-04-28 14:11:24</td>\n",
       "      <td>RT @SatyendarJain: @SatyendarJain Yes. First n...</td>\n",
       "    </tr>\n",
       "  </tbody>\n",
       "</table>\n",
       "</div>"
      ],
      "text/plain": [
       "                   id           created_at                                               text\n",
       "0  725736167363203072  2016-04-28 17:19:20  RT @Airavta: .@bhagwantmann ji new poem on Ach...\n",
       "1  725688872399699968  2016-04-28 14:11:24  RT @SatyendarJain: @SatyendarJain Yes. First n..."
      ]
     },
     "execution_count": 92,
     "metadata": {},
     "output_type": "execute_result"
    }
   ],
   "source": [
    "ak_tweets.head(2)"
   ]
  },
  {
   "cell_type": "code",
   "execution_count": 125,
   "metadata": {
    "collapsed": false
   },
   "outputs": [],
   "source": [
    "ak_tweets['created_at'] = ak_tweets['created_at'].astype('datetime64[ns]')\n",
    "ak_tweets['date'] = ak_tweets['created_at'].apply(lambda x : x.date())\n",
    "ak_tweets['month'] = ak_tweets['created_at'].apply(lambda x :  str(x.month) + '/' + str(x.year)  )"
   ]
  },
  {
   "cell_type": "code",
   "execution_count": 113,
   "metadata": {
    "collapsed": false
   },
   "outputs": [],
   "source": [
    "ak_tweets_new = ak_tweets.groupby('month')"
   ]
  },
  {
   "cell_type": "code",
   "execution_count": 112,
   "metadata": {
    "collapsed": false
   },
   "outputs": [],
   "source": [
    "ak_tweets['modi'] = ak_tweets['text'].apply(lambda x : 1 if 'modi' in x  else 0)\n",
    "ak_tweets['movie'] = ak_tweets['text'].apply(lambda x : 1 if 'movie' in x else 0)\n",
    "ak_tweets['corruption'] = ak_tweets['text'].apply(lambda x : 1 if 'corruption' in x else 0)"
   ]
  },
  {
   "cell_type": "code",
   "execution_count": 114,
   "metadata": {
    "collapsed": false
   },
   "outputs": [],
   "source": [
    "ak_new = ak_tweets_new.sum()"
   ]
  },
  {
   "cell_type": "code",
   "execution_count": 115,
   "metadata": {
    "collapsed": false
   },
   "outputs": [],
   "source": [
    "ak_new.reset_index('month')\n",
    "ak_new.index =  pd.to_datetime(ak_new.index, format='%m/%Y')\n",
    "#ak_new.sort_values('month',ascending = False)"
   ]
  },
  {
   "cell_type": "code",
   "execution_count": 128,
   "metadata": {
    "collapsed": false
   },
   "outputs": [],
   "source": [
    "ak_tweets.reset_index('month')\n",
    "ak_tweets['month'] =  pd.to_datetime(ak_tweets['month'], format='%m/%Y')"
   ]
  },
  {
   "cell_type": "code",
   "execution_count": 150,
   "metadata": {
    "collapsed": false
   },
   "outputs": [],
   "source": [
    "ak_new.index =  ['2015/02', '2015/03', '2015/04', '2015/05', '2015/06', '2015/07', '2015/08', '2015/09', '2015/10', '2015/11', '2015/12', '2016/01', '2016/02', '2016/03', '2016/04']"
   ]
  },
  {
   "cell_type": "code",
   "execution_count": 116,
   "metadata": {
    "collapsed": false
   },
   "outputs": [],
   "source": [
    "ak_new.drop('id', axis = 1,inplace =  True)"
   ]
  },
  {
   "cell_type": "code",
   "execution_count": 145,
   "metadata": {
    "collapsed": false
   },
   "outputs": [],
   "source": [
    "ak_new = ak_new.sort_index()"
   ]
  },
  {
   "cell_type": "code",
   "execution_count": 152,
   "metadata": {
    "collapsed": false
   },
   "outputs": [
    {
     "data": {
      "text/plain": [
       "<matplotlib.axes._subplots.AxesSubplot at 0x201ff128>"
      ]
     },
     "execution_count": 152,
     "metadata": {},
     "output_type": "execute_result"
    },
    {
     "data": {
      "image/png": "[encoded data removed]",
      "text/plain": [
       "<matplotlib.figure.Figure at 0x18456940>"
      ]
     },
     "metadata": {},
     "output_type": "display_data"
    }
   ],
   "source": [
    "ak_new[['modi','corruption','movie']].plot(kind = 'bar')"
   ]
  },
  {
   "cell_type": "code",
   "execution_count": null,
   "metadata": {
    "collapsed": true
   },
   "outputs": [],
   "source": []
  }
 ],
 "metadata": {
  "kernelspec": {
   "display_name": "Python 2",
   "language": "python",
   "name": "python2"
  },
  "language_info": {
   "codemirror_mode": {
    "name": "ipython",
    "version": 2
   },
   "file_extension": ".py",
   "mimetype": "text/x-python",
   "name": "python",
   "nbconvert_exporter": "python",
   "pygments_lexer": "ipython2",
   "version": "2.7.11"
  }
 },
 "nbformat": 4,
 "nbformat_minor": 0
}
