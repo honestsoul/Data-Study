{
 "cells": [
  {
   "cell_type": "code",
   "execution_count": 23,
   "metadata": {},
   "outputs": [],
   "source": [
    "\n",
    "\n",
    "def get_max_drawdown(returns )-> float:\n",
    "    worst_drawdown = 0\n",
    "    high_water_mark = 0\n",
    "    cummulative_water_mark = 0\n",
    "    drawdown = 0\n",
    "    for water_mark in returns:\n",
    "        cummulative_water_mark += water_mark\n",
    "        if cummulative_water_mark > high_water_mark:\n",
    "            high_water_mark = cummulative_water_mark\n",
    "        else:\n",
    "            drawdown = cummulative_water_mark-high_water_mark\n",
    "            if drawdown < worst_drawdown:\n",
    "                worst_drawdown = drawdown\n",
    "    return float(str(round(worst_drawdown,1)))\n",
    "        "
   ]
  },
  {
   "cell_type": "code",
   "execution_count": 24,
   "metadata": {},
   "outputs": [
    {
     "data": {
      "text/plain": [
       "-0.1"
      ]
     },
     "execution_count": 24,
     "metadata": {},
     "output_type": "execute_result"
    }
   ],
   "source": [
    "returns = [0.1, 0.1, 0.2, -0.10]\n",
    "get_max_drawdown(returns)"
   ]
  },
  {
   "cell_type": "code",
   "execution_count": null,
   "metadata": {},
   "outputs": [],
   "source": []
  }
 ],
 "metadata": {
  "kernelspec": {
   "display_name": "Python 3",
   "language": "python",
   "name": "python3"
  },
  "language_info": {
   "codemirror_mode": {
    "name": "ipython",
    "version": 3
   },
   "file_extension": ".py",
   "mimetype": "text/x-python",
   "name": "python",
   "nbconvert_exporter": "python",
   "pygments_lexer": "ipython3",
   "version": "3.7.1"
  }
 },
 "nbformat": 4,
 "nbformat_minor": 2
}
