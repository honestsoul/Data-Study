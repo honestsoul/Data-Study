{
 "cells": [
  {
   "cell_type": "code",
   "execution_count": 1,
   "metadata": {},
   "outputs": [],
   "source": [
    "import numpy as np\n",
    "def get_max_drawdown(returns )-> float:\n",
    "    worst_drawdown = 0\n",
    "    high_water_mark = 0\n",
    "    drawdown = 0\n",
    "    comulative_return = np.cumsum(returns)\n",
    "    \n",
    "    for water_mark in comulative_return:\n",
    "        if water_mark > high_water_mark:\n",
    "            high_water_mark = water_mark\n",
    "        else:\n",
    "            drawdown = water_mark-high_water_mark\n",
    "            if drawdown < worst_drawdown:\n",
    "                worst_drawdown = drawdown\n",
    "    return float(str(round(worst_drawdown,1)))"
   ]
  },
  {
   "cell_type": "code",
   "execution_count": 2,
   "metadata": {},
   "outputs": [
    {
     "data": {
      "text/plain": [
       "-0.1"
      ]
     },
     "execution_count": 2,
     "metadata": {},
     "output_type": "execute_result"
    }
   ],
   "source": [
    "get_max_drawdown([0.1, 0.1, 0.2, -0.10])"
   ]
  },
  {
   "cell_type": "code",
   "execution_count": null,
   "metadata": {},
   "outputs": [],
   "source": []
  }
 ],
 "metadata": {
  "kernelspec": {
   "display_name": "Python 3",
   "language": "python",
   "name": "python3"
  },
  "language_info": {
   "codemirror_mode": {
    "name": "ipython",
    "version": 3
   },
   "file_extension": ".py",
   "mimetype": "text/x-python",
   "name": "python",
   "nbconvert_exporter": "python",
   "pygments_lexer": "ipython3",
   "version": "3.7.1"
  }
 },
 "nbformat": 4,
 "nbformat_minor": 2
}
